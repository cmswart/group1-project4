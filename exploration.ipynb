{
 "cells": [
  {
   "cell_type": "code",
   "execution_count": 27,
   "metadata": {},
   "outputs": [],
   "source": [
    "import pandas as pd\n",
    "from pathlib import Path\n",
    "import seaborn as sns\n",
    "from sklearn.preprocessing import LabelEncoder\n",
    "import matplotlib.pyplot as plt\n",
    "from sklearn.ensemble import RandomForestClassifier\n",
    "from sklearn.model_selection import train_test_split\n",
    "from sklearn.linear_model import LogisticRegression\n",
    "from sklearn.preprocessing import StandardScaler\n",
    "from imblearn.over_sampling import RandomOverSampler\n"
   ]
  },
  {
   "cell_type": "code",
   "execution_count": 28,
   "metadata": {},
   "outputs": [
    {
     "data": {
      "text/html": [
       "<div>\n",
       "<style scoped>\n",
       "    .dataframe tbody tr th:only-of-type {\n",
       "        vertical-align: middle;\n",
       "    }\n",
       "\n",
       "    .dataframe tbody tr th {\n",
       "        vertical-align: top;\n",
       "    }\n",
       "\n",
       "    .dataframe thead th {\n",
       "        text-align: right;\n",
       "    }\n",
       "</style>\n",
       "<table border=\"1\" class=\"dataframe\">\n",
       "  <thead>\n",
       "    <tr style=\"text-align: right;\">\n",
       "      <th></th>\n",
       "      <th>ID</th>\n",
       "      <th>Name</th>\n",
       "      <th>Department</th>\n",
       "      <th>GEO</th>\n",
       "      <th>Role</th>\n",
       "      <th>Rising_Star</th>\n",
       "      <th>Will_Relocate</th>\n",
       "      <th>Critical</th>\n",
       "      <th>Trending Perf</th>\n",
       "      <th>Talent_Level</th>\n",
       "      <th>...</th>\n",
       "      <th>Emp_Competitive_4</th>\n",
       "      <th>Emp_Competitive_5</th>\n",
       "      <th>Emp_Collaborative_1</th>\n",
       "      <th>Emp_Collaborative_2</th>\n",
       "      <th>Emp_Collaborative_3</th>\n",
       "      <th>Emp_Collaborative_4</th>\n",
       "      <th>Emp_Collaborative_5</th>\n",
       "      <th>Sensor_StepCount</th>\n",
       "      <th>Sensor_Heartbeat(Average/Min)</th>\n",
       "      <th>Sensor_Proximity(1-highest/10-lowest)</th>\n",
       "    </tr>\n",
       "  </thead>\n",
       "  <tbody>\n",
       "    <tr>\n",
       "      <th>0</th>\n",
       "      <td>1</td>\n",
       "      <td>BRADDY</td>\n",
       "      <td>Operations</td>\n",
       "      <td>US</td>\n",
       "      <td>VP</td>\n",
       "      <td>NaN</td>\n",
       "      <td>0</td>\n",
       "      <td>1.0</td>\n",
       "      <td>3</td>\n",
       "      <td>6</td>\n",
       "      <td>...</td>\n",
       "      <td>2</td>\n",
       "      <td>2</td>\n",
       "      <td>2</td>\n",
       "      <td>2</td>\n",
       "      <td>2</td>\n",
       "      <td>1</td>\n",
       "      <td>5</td>\n",
       "      <td>1841</td>\n",
       "      <td>61</td>\n",
       "      <td>9</td>\n",
       "    </tr>\n",
       "    <tr>\n",
       "      <th>1</th>\n",
       "      <td>2</td>\n",
       "      <td>BORST</td>\n",
       "      <td>Sales</td>\n",
       "      <td>UK</td>\n",
       "      <td>Senior Director</td>\n",
       "      <td>NaN</td>\n",
       "      <td>0</td>\n",
       "      <td>NaN</td>\n",
       "      <td>3</td>\n",
       "      <td>6</td>\n",
       "      <td>...</td>\n",
       "      <td>4</td>\n",
       "      <td>1</td>\n",
       "      <td>3</td>\n",
       "      <td>2</td>\n",
       "      <td>5</td>\n",
       "      <td>1</td>\n",
       "      <td>5</td>\n",
       "      <td>1990</td>\n",
       "      <td>90</td>\n",
       "      <td>8</td>\n",
       "    </tr>\n",
       "    <tr>\n",
       "      <th>2</th>\n",
       "      <td>3</td>\n",
       "      <td>BIRDWELL</td>\n",
       "      <td>Finance</td>\n",
       "      <td>France</td>\n",
       "      <td>Senior Director</td>\n",
       "      <td>NaN</td>\n",
       "      <td>0</td>\n",
       "      <td>NaN</td>\n",
       "      <td>3</td>\n",
       "      <td>6</td>\n",
       "      <td>...</td>\n",
       "      <td>2</td>\n",
       "      <td>5</td>\n",
       "      <td>2</td>\n",
       "      <td>2</td>\n",
       "      <td>4</td>\n",
       "      <td>4</td>\n",
       "      <td>4</td>\n",
       "      <td>3193</td>\n",
       "      <td>80</td>\n",
       "      <td>8</td>\n",
       "    </tr>\n",
       "    <tr>\n",
       "      <th>3</th>\n",
       "      <td>4</td>\n",
       "      <td>BENT</td>\n",
       "      <td>Human Resources</td>\n",
       "      <td>China</td>\n",
       "      <td>Senior Director</td>\n",
       "      <td>NaN</td>\n",
       "      <td>0</td>\n",
       "      <td>NaN</td>\n",
       "      <td>3</td>\n",
       "      <td>6</td>\n",
       "      <td>...</td>\n",
       "      <td>5</td>\n",
       "      <td>1</td>\n",
       "      <td>1</td>\n",
       "      <td>2</td>\n",
       "      <td>4</td>\n",
       "      <td>4</td>\n",
       "      <td>1</td>\n",
       "      <td>3248</td>\n",
       "      <td>77</td>\n",
       "      <td>6</td>\n",
       "    </tr>\n",
       "    <tr>\n",
       "      <th>4</th>\n",
       "      <td>5</td>\n",
       "      <td>BAZAN</td>\n",
       "      <td>IT</td>\n",
       "      <td>Korea</td>\n",
       "      <td>Director</td>\n",
       "      <td>NaN</td>\n",
       "      <td>0</td>\n",
       "      <td>NaN</td>\n",
       "      <td>3</td>\n",
       "      <td>6</td>\n",
       "      <td>...</td>\n",
       "      <td>5</td>\n",
       "      <td>3</td>\n",
       "      <td>5</td>\n",
       "      <td>1</td>\n",
       "      <td>2</td>\n",
       "      <td>5</td>\n",
       "      <td>4</td>\n",
       "      <td>3149</td>\n",
       "      <td>80</td>\n",
       "      <td>10</td>\n",
       "    </tr>\n",
       "  </tbody>\n",
       "</table>\n",
       "<p>5 rows × 62 columns</p>\n",
       "</div>"
      ],
      "text/plain": [
       "   ID      Name       Department     GEO             Role  Rising_Star  \\\n",
       "0   1    BRADDY       Operations      US               VP          NaN   \n",
       "1   2     BORST            Sales      UK  Senior Director          NaN   \n",
       "2   3  BIRDWELL          Finance  France  Senior Director          NaN   \n",
       "3   4      BENT  Human Resources   China  Senior Director          NaN   \n",
       "4   5     BAZAN               IT   Korea         Director          NaN   \n",
       "\n",
       "   Will_Relocate  Critical  Trending Perf  Talent_Level  ...  \\\n",
       "0              0       1.0              3             6  ...   \n",
       "1              0       NaN              3             6  ...   \n",
       "2              0       NaN              3             6  ...   \n",
       "3              0       NaN              3             6  ...   \n",
       "4              0       NaN              3             6  ...   \n",
       "\n",
       "   Emp_Competitive_4  Emp_Competitive_5  Emp_Collaborative_1  \\\n",
       "0                  2                  2                    2   \n",
       "1                  4                  1                    3   \n",
       "2                  2                  5                    2   \n",
       "3                  5                  1                    1   \n",
       "4                  5                  3                    5   \n",
       "\n",
       "   Emp_Collaborative_2  Emp_Collaborative_3  Emp_Collaborative_4  \\\n",
       "0                    2                    2                    1   \n",
       "1                    2                    5                    1   \n",
       "2                    2                    4                    4   \n",
       "3                    2                    4                    4   \n",
       "4                    1                    2                    5   \n",
       "\n",
       "   Emp_Collaborative_5  Sensor_StepCount  Sensor_Heartbeat(Average/Min)  \\\n",
       "0                    5              1841                             61   \n",
       "1                    5              1990                             90   \n",
       "2                    4              3193                             80   \n",
       "3                    1              3248                             77   \n",
       "4                    4              3149                             80   \n",
       "\n",
       "   Sensor_Proximity(1-highest/10-lowest)  \n",
       "0                                      9  \n",
       "1                                      8  \n",
       "2                                      8  \n",
       "3                                      6  \n",
       "4                                     10  \n",
       "\n",
       "[5 rows x 62 columns]"
      ]
     },
     "execution_count": 28,
     "metadata": {},
     "output_type": "execute_result"
    }
   ],
   "source": [
    "#starting some initial exploration\n",
    "\n",
    "#read in CSV\n",
    "hr_df = pd.read_csv(\"./hr_stats.csv\")\n",
    "\n",
    "#review DF\n",
    "hr_df.head()"
   ]
  },
  {
   "cell_type": "code",
   "execution_count": 29,
   "metadata": {},
   "outputs": [
    {
     "name": "stdout",
     "output_type": "stream",
     "text": [
      "<class 'pandas.core.frame.DataFrame'>\n",
      "RangeIndex: 14999 entries, 0 to 14998\n",
      "Data columns (total 62 columns):\n",
      " #   Column                                 Non-Null Count  Dtype  \n",
      "---  ------                                 --------------  -----  \n",
      " 0   ID                                     14999 non-null  int64  \n",
      " 1   Name                                   14997 non-null  object \n",
      " 2   Department                             14999 non-null  object \n",
      " 3   GEO                                    14999 non-null  object \n",
      " 4   Role                                   14999 non-null  object \n",
      " 5   Rising_Star                            21 non-null     float64\n",
      " 6   Will_Relocate                          14999 non-null  int64  \n",
      " 7   Critical                               480 non-null    float64\n",
      " 8   Trending Perf                          14999 non-null  int64  \n",
      " 9   Talent_Level                           14999 non-null  int64  \n",
      " 10  Validated_Talent_Level                 14999 non-null  int64  \n",
      " 11  Percent_Remote                         14999 non-null  float64\n",
      " 12  EMP_Sat_OnPrem_1                       14871 non-null  float64\n",
      " 13  EMP_Sat_OnPrem_2                       14871 non-null  float64\n",
      " 14  EMP_Sat_OnPrem_3                       14871 non-null  float64\n",
      " 15  EMP_Sat_OnPrem_4                       14871 non-null  float64\n",
      " 16  EMP_Sat_OnPrem_5                       14871 non-null  float64\n",
      " 17  EMP_Sat_Remote_1                       14999 non-null  int64  \n",
      " 18  EMP_Sat_Remote_2                       14999 non-null  int64  \n",
      " 19  EMP_Sat_Remote_3                       14999 non-null  int64  \n",
      " 20  EMP_Sat_Remote_4                       14999 non-null  int64  \n",
      " 21  EMP_Sat_Remote_5                       14999 non-null  int64  \n",
      " 22  EMP_Engagement_1                       14999 non-null  int64  \n",
      " 23  EMP_Engagement_2                       14999 non-null  int64  \n",
      " 24  EMP_Engagement_3                       14999 non-null  int64  \n",
      " 25  EMP_Engagement_4                       14999 non-null  int64  \n",
      " 26  EMP_Engagement_5                       14999 non-null  int64  \n",
      " 27  last_evaluation                        14999 non-null  float64\n",
      " 28  number_project                         14999 non-null  int64  \n",
      " 29  average_montly_hours                   14999 non-null  int64  \n",
      " 30  time_spend_company                     14999 non-null  int64  \n",
      " 31  Work_accident                          14999 non-null  int64  \n",
      " 32  left_Company                           14999 non-null  int64  \n",
      " 33  CSR Factor                             1713 non-null   float64\n",
      " 34  promotion_last_5years                  14999 non-null  int64  \n",
      " 35  sales                                  14999 non-null  object \n",
      " 36  salary                                 14999 non-null  object \n",
      " 37  Gender                                 14999 non-null  object \n",
      " 38  LinkedIn_Hits                          14999 non-null  int64  \n",
      " 39  Emp_Work_Status2                       14999 non-null  int64  \n",
      " 40  Emp_Work_Status_3                      14999 non-null  int64  \n",
      " 41  Emp_Work_Status_4                      14999 non-null  int64  \n",
      " 42  Emp_Work_Status_5                      14999 non-null  int64  \n",
      " 43  Emp_Identity                           14999 non-null  int64  \n",
      " 44  Emp_Role                               14999 non-null  int64  \n",
      " 45  Emp_Position                           14999 non-null  int64  \n",
      " 46  Emp_Title                              14999 non-null  int64  \n",
      " 47  Women_Leave                            7596 non-null   float64\n",
      " 48  Men_Leave                              4865 non-null   float64\n",
      " 49  Emp_Competitive_1                      14999 non-null  int64  \n",
      " 50  Emp_Competitive_2                      14999 non-null  int64  \n",
      " 51  Emp_Competitive_3                      14999 non-null  int64  \n",
      " 52  Emp_Competitive_4                      14999 non-null  int64  \n",
      " 53  Emp_Competitive_5                      14999 non-null  int64  \n",
      " 54  Emp_Collaborative_1                    14999 non-null  int64  \n",
      " 55  Emp_Collaborative_2                    14999 non-null  int64  \n",
      " 56  Emp_Collaborative_3                    14999 non-null  int64  \n",
      " 57  Emp_Collaborative_4                    14999 non-null  int64  \n",
      " 58  Emp_Collaborative_5                    14999 non-null  int64  \n",
      " 59  Sensor_StepCount                       14999 non-null  int64  \n",
      " 60  Sensor_Heartbeat(Average/Min)          14999 non-null  int64  \n",
      " 61  Sensor_Proximity(1-highest/10-lowest)  14999 non-null  int64  \n",
      "dtypes: float64(12), int64(43), object(7)\n",
      "memory usage: 7.1+ MB\n",
      "None\n",
      "                 ID  Rising_Star  Will_Relocate  Critical  Trending Perf  \\\n",
      "count  14999.000000         21.0   14999.000000     480.0        14999.0   \n",
      "mean    7500.000000          1.0       0.499833       1.0            3.0   \n",
      "std     4329.982679          0.0       0.500017       0.0            0.0   \n",
      "min        1.000000          1.0       0.000000       1.0            3.0   \n",
      "25%     3750.500000          1.0       0.000000       1.0            3.0   \n",
      "50%     7500.000000          1.0       0.000000       1.0            3.0   \n",
      "75%    11249.500000          1.0       1.000000       1.0            3.0   \n",
      "max    14999.000000          1.0       1.000000       1.0            3.0   \n",
      "\n",
      "       Talent_Level  Validated_Talent_Level  Percent_Remote  EMP_Sat_OnPrem_1  \\\n",
      "count       14999.0                 14999.0    14999.000000           14871.0   \n",
      "mean            6.0                     6.0        0.617321               3.0   \n",
      "std             0.0                     0.0        0.193841               0.0   \n",
      "min             6.0                     6.0        0.400000               3.0   \n",
      "25%             6.0                     6.0        0.400000               3.0   \n",
      "50%             6.0                     6.0        0.800000               3.0   \n",
      "75%             6.0                     6.0        0.800000               3.0   \n",
      "max             6.0                     6.0        1.000000               3.0   \n",
      "\n",
      "       EMP_Sat_OnPrem_2  ...  Emp_Competitive_4  Emp_Competitive_5  \\\n",
      "count      14871.000000  ...       14999.000000       14999.000000   \n",
      "mean           2.731962  ...           2.999067           2.987066   \n",
      "std            0.681369  ...           1.406128           1.412314   \n",
      "min            1.000000  ...           1.000000           1.000000   \n",
      "25%            3.000000  ...           2.000000           2.000000   \n",
      "50%            3.000000  ...           3.000000           3.000000   \n",
      "75%            3.000000  ...           4.000000           4.000000   \n",
      "max            3.000000  ...           5.000000           5.000000   \n",
      "\n",
      "       Emp_Collaborative_1  Emp_Collaborative_2  Emp_Collaborative_3  \\\n",
      "count         14999.000000         14999.000000         14999.000000   \n",
      "mean              2.979532             1.676245             2.998533   \n",
      "std               1.412579             0.865230             1.410058   \n",
      "min               1.000000             1.000000             1.000000   \n",
      "25%               2.000000             1.000000             2.000000   \n",
      "50%               3.000000             2.000000             3.000000   \n",
      "75%               4.000000             2.000000             4.000000   \n",
      "max               5.000000             5.000000             5.000000   \n",
      "\n",
      "       Emp_Collaborative_4  Emp_Collaborative_5  Sensor_StepCount  \\\n",
      "count         14999.000000         14999.000000      14999.000000   \n",
      "mean              3.005200             3.016934       3406.693246   \n",
      "std               1.410191             1.412225       1755.742272   \n",
      "min               1.000000             1.000000       1000.000000   \n",
      "25%               2.000000             2.000000       1704.500000   \n",
      "50%               3.000000             3.000000       3376.000000   \n",
      "75%               4.000000             4.000000       4893.000000   \n",
      "max               5.000000             5.000000       8500.000000   \n",
      "\n",
      "       Sensor_Heartbeat(Average/Min)  Sensor_Proximity(1-highest/10-lowest)  \n",
      "count                   14999.000000                           14999.000000  \n",
      "mean                       77.967198                               6.399360  \n",
      "std                         7.252848                               2.588091  \n",
      "min                        60.000000                               1.000000  \n",
      "25%                        75.000000                               5.000000  \n",
      "50%                        78.000000                               7.000000  \n",
      "75%                        85.000000                               8.000000  \n",
      "max                        90.000000                              10.000000  \n",
      "\n",
      "[8 rows x 55 columns]\n",
      "          Name  Department    GEO       Role  sales salary Gender\n",
      "count    14997       14999  14999      14999  14999  14999  14999\n",
      "unique   14997           6      9          7     10      3      2\n",
      "top     BRADDY  Operations     UK  Level 2-4  sales    low      F\n",
      "freq         1        2500   1772       6889   4140   7316   7596\n"
     ]
    }
   ],
   "source": [
    "#find out what is in the columns\n",
    "\n",
    "print(hr_df.info())\n",
    "\n",
    "print(hr_df.describe())\n",
    "\n",
    "print(hr_df.describe(include = ['object']))"
   ]
  },
  {
   "attachments": {},
   "cell_type": "markdown",
   "metadata": {},
   "source": [
    "Summary:\n",
    "* 200 total entries, each line is a unique employee\n",
    "* 5 departments\n",
    "* 6 positions\n",
    "\n"
   ]
  },
  {
   "cell_type": "code",
   "execution_count": 30,
   "metadata": {},
   "outputs": [],
   "source": [
    "# dropping columns to make more usable \n",
    "\n",
    "hr_df.drop(hr_df.columns[[1,5,7,8,9,10,12,13,14,15,16,17,18,19,20,21,22,23,24,25,26,33,39,40,41,42,47,48,49,50,51,52,53,54,55,56,57,58,59,60,61]], axis=1, inplace=True)"
   ]
  },
  {
   "cell_type": "code",
   "execution_count": 31,
   "metadata": {},
   "outputs": [],
   "source": [
    "le = LabelEncoder()\n",
    "hr_df['gender_binary'] = le.fit_transform(hr_df['Gender'])\n",
    "hr_df['dept_no'] = le.fit_transform(hr_df['Department'])\n",
    "hr_df['position_no'] = le.fit_transform(hr_df['Role'])\n",
    "\n",
    "hr_df.head()\n",
    "\n",
    "hr_df.to_csv('cleaned_hr.csv')"
   ]
  },
  {
   "cell_type": "code",
   "execution_count": 32,
   "metadata": {},
   "outputs": [
    {
     "data": {
      "text/plain": [
       "GEO                       object\n",
       "Will_Relocate              int64\n",
       "Percent_Remote           float64\n",
       "last_evaluation          float64\n",
       "number_project             int64\n",
       "average_montly_hours       int64\n",
       "time_spend_company         int64\n",
       "Work_accident              int64\n",
       "left_Company               int64\n",
       "promotion_last_5years      int64\n",
       "sales                     object\n",
       "salary                    object\n",
       "LinkedIn_Hits              int64\n",
       "Emp_Identity               int64\n",
       "Emp_Role                   int64\n",
       "Emp_Position               int64\n",
       "Emp_Title                  int64\n",
       "dept_no                    int64\n",
       "position_no                int64\n",
       "dtype: object"
      ]
     },
     "execution_count": 32,
     "metadata": {},
     "output_type": "execute_result"
    }
   ],
   "source": [
    "ML_df = hr_df.drop(columns=[\"Gender\", \"Department\", \"Role\", \"ID\", \"gender_binary\"])\n",
    "ML_df.dtypes"
   ]
  },
  {
   "cell_type": "code",
   "execution_count": 33,
   "metadata": {},
   "outputs": [
    {
     "data": {
      "text/plain": [
       "low       7316\n",
       "medium    6446\n",
       "high      1237\n",
       "Name: salary, dtype: int64"
      ]
     },
     "execution_count": 33,
     "metadata": {},
     "output_type": "execute_result"
    }
   ],
   "source": [
    "ML_df[\"salary\"].value_counts()"
   ]
  },
  {
   "cell_type": "code",
   "execution_count": 34,
   "metadata": {},
   "outputs": [
    {
     "data": {
      "text/plain": [
       "Will_Relocate              int64\n",
       "Percent_Remote           float64\n",
       "last_evaluation          float64\n",
       "number_project             int64\n",
       "average_montly_hours       int64\n",
       "time_spend_company         int64\n",
       "Work_accident              int64\n",
       "left_Company               int64\n",
       "promotion_last_5years      int64\n",
       "LinkedIn_Hits              int64\n",
       "Emp_Identity               int64\n",
       "Emp_Role                   int64\n",
       "Emp_Position               int64\n",
       "Emp_Title                  int64\n",
       "dept_no                    int64\n",
       "position_no                int64\n",
       "GEO_Australia              uint8\n",
       "GEO_China                  uint8\n",
       "GEO_Colombia               uint8\n",
       "GEO_France                 uint8\n",
       "GEO_Japan                  uint8\n",
       "GEO_Korea                  uint8\n",
       "GEO_Turkey                 uint8\n",
       "GEO_UK                     uint8\n",
       "GEO_US                     uint8\n",
       "sales_IT                   uint8\n",
       "sales_RandD                uint8\n",
       "sales_accounting           uint8\n",
       "sales_hr                   uint8\n",
       "sales_management           uint8\n",
       "sales_marketing            uint8\n",
       "sales_product_mng          uint8\n",
       "sales_sales                uint8\n",
       "sales_support              uint8\n",
       "sales_technical            uint8\n",
       "salary_high                uint8\n",
       "salary_low                 uint8\n",
       "salary_medium              uint8\n",
       "dtype: object"
      ]
     },
     "execution_count": 34,
     "metadata": {},
     "output_type": "execute_result"
    }
   ],
   "source": [
    "dummies_df = pd.get_dummies(ML_df)\n",
    "# dummies_df = dummies_df.drop(columns=[\"GEO\", \"sales\", \"salary\"])\n",
    "dummies_df.dtypes"
   ]
  },
  {
   "cell_type": "code",
   "execution_count": 35,
   "metadata": {},
   "outputs": [
    {
     "data": {
      "image/png": "[encoded data removed]",
      "text/plain": [
       "<Figure size 1000x1000 with 2 Axes>"
      ]
     },
     "metadata": {},
     "output_type": "display_data"
    }
   ],
   "source": [
    "#correlation heatmap\n",
    "\n",
    "# Correlation matrix\n",
    "corr = dummies_df.corr()\n",
    "\n",
    "# Create a heatmap\n",
    "plt.figure(figsize=(10, 10))\n",
    "sns.heatmap(corr,  cmap='coolwarm', fmt=\".2f\")\n",
    "plt.title('Correlation Matrix')\n",
    "plt.show()"
   ]
  },
  {
   "cell_type": "code",
   "execution_count": 36,
   "metadata": {},
   "outputs": [],
   "source": [
    "X = dummies_df.drop(columns=[\"left_Company\"])\n",
    "y = dummies_df[\"left_Company\"]\n",
    "X_train, X_test, y_train, y_test = train_test_split(X, y, random_state=42)"
   ]
  },
  {
   "cell_type": "code",
   "execution_count": 37,
   "metadata": {},
   "outputs": [
    {
     "data": {
      "text/plain": [
       "0    11428\n",
       "1     3571\n",
       "Name: left_Company, dtype: int64"
      ]
     },
     "execution_count": 37,
     "metadata": {},
     "output_type": "execute_result"
    }
   ],
   "source": [
    "y.value_counts()"
   ]
  },
  {
   "cell_type": "code",
   "execution_count": 38,
   "metadata": {},
   "outputs": [
    {
     "data": {
      "text/plain": [
       "RandomForestClassifier(random_state=42)"
      ]
     },
     "execution_count": 38,
     "metadata": {},
     "output_type": "execute_result"
    }
   ],
   "source": [
    "rf = RandomForestClassifier(random_state=42)\n",
    "rf.fit(X_train, y_train)"
   ]
  },
  {
   "cell_type": "code",
   "execution_count": 39,
   "metadata": {},
   "outputs": [],
   "source": [
    "y_prediction = rf.predict(X_test)"
   ]
  },
  {
   "cell_type": "code",
   "execution_count": 40,
   "metadata": {},
   "outputs": [],
   "source": [
    "from sklearn.metrics import classification_report\n",
    "from sklearn.metrics import confusion_matrix"
   ]
  },
  {
   "cell_type": "code",
   "execution_count": 41,
   "metadata": {},
   "outputs": [
    {
     "name": "stdout",
     "output_type": "stream",
     "text": [
      "[[2859    9]\n",
      " [  32  850]]\n"
     ]
    }
   ],
   "source": [
    "print(confusion_matrix(y_test, y_prediction))"
   ]
  },
  {
   "cell_type": "code",
   "execution_count": 42,
   "metadata": {},
   "outputs": [
    {
     "name": "stdout",
     "output_type": "stream",
     "text": [
      "              precision    recall  f1-score   support\n",
      "\n",
      "           0       0.99      1.00      0.99      2868\n",
      "           1       0.99      0.96      0.98       882\n",
      "\n",
      "    accuracy                           0.99      3750\n",
      "   macro avg       0.99      0.98      0.98      3750\n",
      "weighted avg       0.99      0.99      0.99      3750\n",
      "\n"
     ]
    }
   ],
   "source": [
    "print(classification_report(y_test, y_prediction))"
   ]
  },
  {
   "cell_type": "code",
   "execution_count": 43,
   "metadata": {},
   "outputs": [
    {
     "data": {
      "text/plain": [
       "array([0.00237353, 0.04747294, 0.13134267, 0.20648038, 0.14543351,\n",
       "       0.11846161, 0.00969862, 0.00062095, 0.04034715, 0.07420332,\n",
       "       0.06742499, 0.05355097, 0.04974559, 0.00666782, 0.00669849,\n",
       "       0.00121102, 0.00151875, 0.00149303, 0.00127092, 0.00145253,\n",
       "       0.0012653 , 0.00161824, 0.00145318, 0.00174198, 0.00131763,\n",
       "       0.00117912, 0.00124129, 0.0015709 , 0.00073508, 0.0007653 ,\n",
       "       0.00082254, 0.00217872, 0.00198223, 0.00252866, 0.00432625,\n",
       "       0.00510587, 0.00269894])"
      ]
     },
     "execution_count": 43,
     "metadata": {},
     "output_type": "execute_result"
    }
   ],
   "source": [
    "rf.feature_importances_"
   ]
  },
  {
   "cell_type": "code",
   "execution_count": 54,
   "metadata": {},
   "outputs": [
    {
     "data": {
      "text/html": [
       "<div>\n",
       "<style scoped>\n",
       "    .dataframe tbody tr th:only-of-type {\n",
       "        vertical-align: middle;\n",
       "    }\n",
       "\n",
       "    .dataframe tbody tr th {\n",
       "        vertical-align: top;\n",
       "    }\n",
       "\n",
       "    .dataframe thead th {\n",
       "        text-align: right;\n",
       "    }\n",
       "</style>\n",
       "<table border=\"1\" class=\"dataframe\">\n",
       "  <thead>\n",
       "    <tr style=\"text-align: right;\">\n",
       "      <th></th>\n",
       "      <th>columns</th>\n",
       "      <th>importance</th>\n",
       "    </tr>\n",
       "  </thead>\n",
       "  <tbody>\n",
       "    <tr>\n",
       "      <th>3</th>\n",
       "      <td>number_project</td>\n",
       "      <td>20.648038</td>\n",
       "    </tr>\n",
       "    <tr>\n",
       "      <th>4</th>\n",
       "      <td>average_montly_hours</td>\n",
       "      <td>14.543351</td>\n",
       "    </tr>\n",
       "    <tr>\n",
       "      <th>2</th>\n",
       "      <td>last_evaluation</td>\n",
       "      <td>13.134267</td>\n",
       "    </tr>\n",
       "    <tr>\n",
       "      <th>5</th>\n",
       "      <td>time_spend_company</td>\n",
       "      <td>11.846161</td>\n",
       "    </tr>\n",
       "    <tr>\n",
       "      <th>9</th>\n",
       "      <td>Emp_Identity</td>\n",
       "      <td>7.420332</td>\n",
       "    </tr>\n",
       "    <tr>\n",
       "      <th>10</th>\n",
       "      <td>Emp_Role</td>\n",
       "      <td>6.742499</td>\n",
       "    </tr>\n",
       "    <tr>\n",
       "      <th>11</th>\n",
       "      <td>Emp_Position</td>\n",
       "      <td>5.355097</td>\n",
       "    </tr>\n",
       "    <tr>\n",
       "      <th>12</th>\n",
       "      <td>Emp_Title</td>\n",
       "      <td>4.974559</td>\n",
       "    </tr>\n",
       "    <tr>\n",
       "      <th>1</th>\n",
       "      <td>Percent_Remote</td>\n",
       "      <td>4.747294</td>\n",
       "    </tr>\n",
       "    <tr>\n",
       "      <th>8</th>\n",
       "      <td>LinkedIn_Hits</td>\n",
       "      <td>4.034715</td>\n",
       "    </tr>\n",
       "    <tr>\n",
       "      <th>6</th>\n",
       "      <td>Work_accident</td>\n",
       "      <td>0.969862</td>\n",
       "    </tr>\n",
       "    <tr>\n",
       "      <th>14</th>\n",
       "      <td>position_no</td>\n",
       "      <td>0.669849</td>\n",
       "    </tr>\n",
       "    <tr>\n",
       "      <th>13</th>\n",
       "      <td>dept_no</td>\n",
       "      <td>0.666782</td>\n",
       "    </tr>\n",
       "    <tr>\n",
       "      <th>35</th>\n",
       "      <td>salary_low</td>\n",
       "      <td>0.510587</td>\n",
       "    </tr>\n",
       "    <tr>\n",
       "      <th>34</th>\n",
       "      <td>salary_high</td>\n",
       "      <td>0.432625</td>\n",
       "    </tr>\n",
       "    <tr>\n",
       "      <th>36</th>\n",
       "      <td>salary_medium</td>\n",
       "      <td>0.269894</td>\n",
       "    </tr>\n",
       "    <tr>\n",
       "      <th>33</th>\n",
       "      <td>sales_technical</td>\n",
       "      <td>0.252866</td>\n",
       "    </tr>\n",
       "    <tr>\n",
       "      <th>0</th>\n",
       "      <td>Will_Relocate</td>\n",
       "      <td>0.237353</td>\n",
       "    </tr>\n",
       "    <tr>\n",
       "      <th>31</th>\n",
       "      <td>sales_sales</td>\n",
       "      <td>0.217872</td>\n",
       "    </tr>\n",
       "    <tr>\n",
       "      <th>32</th>\n",
       "      <td>sales_support</td>\n",
       "      <td>0.198223</td>\n",
       "    </tr>\n",
       "    <tr>\n",
       "      <th>23</th>\n",
       "      <td>GEO_US</td>\n",
       "      <td>0.174198</td>\n",
       "    </tr>\n",
       "    <tr>\n",
       "      <th>21</th>\n",
       "      <td>GEO_Turkey</td>\n",
       "      <td>0.161824</td>\n",
       "    </tr>\n",
       "    <tr>\n",
       "      <th>27</th>\n",
       "      <td>sales_hr</td>\n",
       "      <td>0.157090</td>\n",
       "    </tr>\n",
       "    <tr>\n",
       "      <th>16</th>\n",
       "      <td>GEO_China</td>\n",
       "      <td>0.151875</td>\n",
       "    </tr>\n",
       "    <tr>\n",
       "      <th>17</th>\n",
       "      <td>GEO_Colombia</td>\n",
       "      <td>0.149303</td>\n",
       "    </tr>\n",
       "    <tr>\n",
       "      <th>22</th>\n",
       "      <td>GEO_UK</td>\n",
       "      <td>0.145318</td>\n",
       "    </tr>\n",
       "    <tr>\n",
       "      <th>19</th>\n",
       "      <td>GEO_Japan</td>\n",
       "      <td>0.145253</td>\n",
       "    </tr>\n",
       "    <tr>\n",
       "      <th>24</th>\n",
       "      <td>sales_IT</td>\n",
       "      <td>0.131763</td>\n",
       "    </tr>\n",
       "    <tr>\n",
       "      <th>18</th>\n",
       "      <td>GEO_France</td>\n",
       "      <td>0.127092</td>\n",
       "    </tr>\n",
       "    <tr>\n",
       "      <th>20</th>\n",
       "      <td>GEO_Korea</td>\n",
       "      <td>0.126530</td>\n",
       "    </tr>\n",
       "    <tr>\n",
       "      <th>26</th>\n",
       "      <td>sales_accounting</td>\n",
       "      <td>0.124129</td>\n",
       "    </tr>\n",
       "    <tr>\n",
       "      <th>15</th>\n",
       "      <td>GEO_Australia</td>\n",
       "      <td>0.121102</td>\n",
       "    </tr>\n",
       "    <tr>\n",
       "      <th>25</th>\n",
       "      <td>sales_RandD</td>\n",
       "      <td>0.117912</td>\n",
       "    </tr>\n",
       "    <tr>\n",
       "      <th>30</th>\n",
       "      <td>sales_product_mng</td>\n",
       "      <td>0.082254</td>\n",
       "    </tr>\n",
       "    <tr>\n",
       "      <th>29</th>\n",
       "      <td>sales_marketing</td>\n",
       "      <td>0.076530</td>\n",
       "    </tr>\n",
       "    <tr>\n",
       "      <th>28</th>\n",
       "      <td>sales_management</td>\n",
       "      <td>0.073508</td>\n",
       "    </tr>\n",
       "    <tr>\n",
       "      <th>7</th>\n",
       "      <td>promotion_last_5years</td>\n",
       "      <td>0.062095</td>\n",
       "    </tr>\n",
       "  </tbody>\n",
       "</table>\n",
       "</div>"
      ],
      "text/plain": [
       "                  columns  importance\n",
       "3          number_project   20.648038\n",
       "4    average_montly_hours   14.543351\n",
       "2         last_evaluation   13.134267\n",
       "5      time_spend_company   11.846161\n",
       "9            Emp_Identity    7.420332\n",
       "10               Emp_Role    6.742499\n",
       "11           Emp_Position    5.355097\n",
       "12              Emp_Title    4.974559\n",
       "1          Percent_Remote    4.747294\n",
       "8           LinkedIn_Hits    4.034715\n",
       "6           Work_accident    0.969862\n",
       "14            position_no    0.669849\n",
       "13                dept_no    0.666782\n",
       "35             salary_low    0.510587\n",
       "34            salary_high    0.432625\n",
       "36          salary_medium    0.269894\n",
       "33        sales_technical    0.252866\n",
       "0           Will_Relocate    0.237353\n",
       "31            sales_sales    0.217872\n",
       "32          sales_support    0.198223\n",
       "23                 GEO_US    0.174198\n",
       "21             GEO_Turkey    0.161824\n",
       "27               sales_hr    0.157090\n",
       "16              GEO_China    0.151875\n",
       "17           GEO_Colombia    0.149303\n",
       "22                 GEO_UK    0.145318\n",
       "19              GEO_Japan    0.145253\n",
       "24               sales_IT    0.131763\n",
       "18             GEO_France    0.127092\n",
       "20              GEO_Korea    0.126530\n",
       "26       sales_accounting    0.124129\n",
       "15          GEO_Australia    0.121102\n",
       "25            sales_RandD    0.117912\n",
       "30      sales_product_mng    0.082254\n",
       "29        sales_marketing    0.076530\n",
       "28       sales_management    0.073508\n",
       "7   promotion_last_5years    0.062095"
      ]
     },
     "execution_count": 54,
     "metadata": {},
     "output_type": "execute_result"
    }
   ],
   "source": [
    "importance_df = pd.DataFrame({\"columns\": X_train.columns, \"importance\": rf.feature_importances_*100}).sort_values(by=\"importance\", ascending=False)\n",
    "\n",
    "importance_df"
   ]
  },
  {
   "cell_type": "code",
   "execution_count": 55,
   "metadata": {},
   "outputs": [],
   "source": [
    "#save importances as csv to use in Tableau\n",
    "importance_df.to_csv('importances.csv')"
   ]
  },
  {
   "cell_type": "code",
   "execution_count": 45,
   "metadata": {},
   "outputs": [],
   "source": [
    "# Split the data into X and y and then into testing and training sets\n",
    "X = dummies_df.drop(columns=[\"left_Company\"])\n",
    "y = dummies_df[\"left_Company\"]\n",
    "X_train, X_test, y_train, y_test = train_test_split(X, y)\n"
   ]
  },
  {
   "cell_type": "code",
   "execution_count": 46,
   "metadata": {},
   "outputs": [],
   "source": [
    "random_over_sampler = RandomOverSampler(random_state=1)\n",
    "X_train_ros, y_train_ros = random_over_sampler.fit_resample(X_train, y_train)"
   ]
  },
  {
   "cell_type": "code",
   "execution_count": 47,
   "metadata": {},
   "outputs": [],
   "source": [
    "scaler = StandardScaler()\n",
    "scaler.fit(X_train_ros)\n",
    "X_train_ros_scaled = scaler.transform(X_train_ros)\n",
    "X_test_scaled = scaler.transform(X_test)"
   ]
  },
  {
   "cell_type": "code",
   "execution_count": 48,
   "metadata": {},
   "outputs": [],
   "source": [
    "# Fit a logistic regression classifier\n",
    "# Declare a logistic regression model\n",
    "# Apply a random_state of 9 to the model\n",
    "logistic_regression_model = LogisticRegression(random_state=9)\n",
    "\n",
    "# Fit and save the logistic regression model using the training data\n",
    "lr_model = logistic_regression_model.fit(X_train_ros_scaled, y_train_ros)"
   ]
  },
  {
   "cell_type": "code",
   "execution_count": 49,
   "metadata": {},
   "outputs": [],
   "source": [
    "# Generate training predictions\n",
    "training_predictions = lr_model.predict(X_train_ros_scaled)\n",
    "\n",
    "# Generate testing predictions\n",
    "testing_predictions = logistic_regression_model.predict(X_test_scaled)"
   ]
  },
  {
   "cell_type": "code",
   "execution_count": 50,
   "metadata": {},
   "outputs": [
    {
     "name": "stdout",
     "output_type": "stream",
     "text": [
      "[[6912 1669]\n",
      " [1410 7171]]\n"
     ]
    }
   ],
   "source": [
    "# Create and save the confusion matrix for the training data\n",
    "training_matrix = confusion_matrix(y_train_ros, training_predictions)\n",
    "\n",
    "# Print the confusion matrix for the training data\n",
    "print(training_matrix)"
   ]
  },
  {
   "cell_type": "code",
   "execution_count": 51,
   "metadata": {},
   "outputs": [
    {
     "name": "stdout",
     "output_type": "stream",
     "text": [
      "[[2303  544]\n",
      " [ 154  749]]\n"
     ]
    }
   ],
   "source": [
    "# Create and save the confusion matrix for the testing data\n",
    "test_matrix = confusion_matrix(y_test, testing_predictions)\n",
    "\n",
    "# Print the confusion matrix for the testing data\n",
    "print(test_matrix)"
   ]
  },
  {
   "cell_type": "code",
   "execution_count": 52,
   "metadata": {},
   "outputs": [
    {
     "name": "stdout",
     "output_type": "stream",
     "text": [
      "              precision    recall  f1-score   support\n",
      "\n",
      "           0       0.83      0.81      0.82      8581\n",
      "           1       0.81      0.84      0.82      8581\n",
      "\n",
      "    accuracy                           0.82     17162\n",
      "   macro avg       0.82      0.82      0.82     17162\n",
      "weighted avg       0.82      0.82      0.82     17162\n",
      "\n"
     ]
    }
   ],
   "source": [
    "# Create and save the training classification report\n",
    "training_report = classification_report(y_train_ros, training_predictions)\n",
    "\n",
    "# Print the training classification report\n",
    "print(training_report)"
   ]
  },
  {
   "cell_type": "code",
   "execution_count": 53,
   "metadata": {},
   "outputs": [
    {
     "name": "stdout",
     "output_type": "stream",
     "text": [
      "              precision    recall  f1-score   support\n",
      "\n",
      "           0       0.94      0.81      0.87      2847\n",
      "           1       0.58      0.83      0.68       903\n",
      "\n",
      "    accuracy                           0.81      3750\n",
      "   macro avg       0.76      0.82      0.78      3750\n",
      "weighted avg       0.85      0.81      0.82      3750\n",
      "\n"
     ]
    }
   ],
   "source": [
    "# Create and save the testing classification report\n",
    "testing_report = classification_report(y_test, testing_predictions)\n",
    "\n",
    "# Print the testing classification report\n",
    "print(testing_report)"
   ]
  }
 ],
 "metadata": {
  "kernelspec": {
   "display_name": "base",
   "language": "python",
   "name": "python3"
  },
  "language_info": {
   "codemirror_mode": {
    "name": "ipython",
    "version": 3
   },
   "file_extension": ".py",
   "mimetype": "text/x-python",
   "name": "python",
   "nbconvert_exporter": "python",
   "pygments_lexer": "ipython3",
   "version": "3.10.9"
  },
  "orig_nbformat": 4
 },
 "nbformat": 4,
 "nbformat_minor": 2
}
